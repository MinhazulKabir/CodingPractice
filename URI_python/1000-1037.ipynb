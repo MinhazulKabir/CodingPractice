{
 "cells": [
  {
   "cell_type": "markdown",
   "metadata": {},
   "source": [
    "# URI \n",
    "#### 🖤URI Online Judge🖤"
   ]
  },
  {
   "cell_type": "markdown",
   "metadata": {},
   "source": [
    "## 1000 Hello World!"
   ]
  },
  {
   "cell_type": "code",
   "execution_count": 0,
   "metadata": {},
   "outputs": [
    {
     "name": "stdout",
     "output_type": "stream",
     "text": [
      "Hello World!\n"
     ]
    }
   ],
   "source": [
    "#https://www.urionlinejudge.com.br/judge/en/problems/view/1000\n",
    "print(\"Hello World!\")"
   ]
  },
  {
   "cell_type": "markdown",
   "metadata": {},
   "source": [
    "## 1001 Extremely Basic"
   ]
  },
  {
   "cell_type": "code",
   "execution_count": 1,
   "metadata": {},
   "outputs": [
    {
     "name": "stdout",
     "output_type": "stream",
     "text": [
      "10\n",
      "20\n",
      "X = 30\n"
     ]
    }
   ],
   "source": [
    "#https://www.urionlinejudge.com.br/judge/en/problems/view/1001\n",
    "A=int(input())\n",
    "B=int(input())\n",
    "\n",
    "print(f\"X = {A+B}\")"
   ]
  },
  {
   "cell_type": "markdown",
   "metadata": {},
   "source": [
    "## 1002 Area of a Circle"
   ]
  },
  {
   "cell_type": "code",
   "execution_count": 2,
   "metadata": {},
   "outputs": [
    {
     "name": "stdout",
     "output_type": "stream",
     "text": [
      "150.00\n",
      "A=70685.7750\n"
     ]
    }
   ],
   "source": [
    "#https://www.urionlinejudge.com.br/judge/en/problems/view/1002\n",
    "R=float(input())\n",
    "A=3.14159*R*R\n",
    "print(f\"A={format(A, '.4f')}\")"
   ]
  },
  {
   "cell_type": "markdown",
   "metadata": {},
   "source": [
    "## 1003 Simple Sum"
   ]
  },
  {
   "cell_type": "code",
   "execution_count": 3,
   "metadata": {},
   "outputs": [
    {
     "name": "stdout",
     "output_type": "stream",
     "text": [
      "10\n",
      "20\n",
      "SOMA = 30\n"
     ]
    }
   ],
   "source": [
    "#https://www.urionlinejudge.com.br/judge/en/problems/view/1003\n",
    "A=int(input())\n",
    "B=int(input())\n",
    "\n",
    "print(f\"SOMA = {A+B}\")"
   ]
  },
  {
   "cell_type": "markdown",
   "metadata": {},
   "source": [
    "## 1004 Simple Product"
   ]
  },
  {
   "cell_type": "code",
   "execution_count": 4,
   "metadata": {},
   "outputs": [
    {
     "name": "stdout",
     "output_type": "stream",
     "text": [
      "10\n",
      "-30\n",
      "PROD = -300\n"
     ]
    }
   ],
   "source": [
    "#https://www.urionlinejudge.com.br/judge/en/problems/view/1004\n",
    "A=int(input())\n",
    "B=int(input())\n",
    "\n",
    "print(f\"PROD = {A*B}\")"
   ]
  },
  {
   "cell_type": "markdown",
   "metadata": {},
   "source": [
    "## 1005 Average 1"
   ]
  },
  {
   "cell_type": "code",
   "execution_count": 5,
   "metadata": {},
   "outputs": [
    {
     "name": "stdout",
     "output_type": "stream",
     "text": [
      "10\n",
      "10\n",
      "MEDIA = 10.00000\n"
     ]
    }
   ],
   "source": [
    "#https://www.urionlinejudge.com.br/judge/en/problems/view/1005\n",
    "#https://www.urionlinejudge.com.br/judge/en/problems/view/1005\n",
    "A=float(input())\n",
    "B=float(input())\n",
    "MEDIA = (A*3.5+B*7.5)/11\n",
    "print(f\"MEDIA = {format(MEDIA, '.5f')}\")"
   ]
  },
  {
   "cell_type": "markdown",
   "metadata": {},
   "source": [
    "## 1006 Average 2"
   ]
  },
  {
   "cell_type": "code",
   "execution_count": 6,
   "metadata": {},
   "outputs": [
    {
     "name": "stdout",
     "output_type": "stream",
     "text": [
      "5\n",
      "6\n",
      "7\n",
      "MEDIA = 6.3\n"
     ]
    }
   ],
   "source": [
    "#https://www.urionlinejudge.com.br/judge/en/problems/view/1006\n",
    "A=float(input())\n",
    "B=float(input())\n",
    "C=float(input())\n",
    "MEDIA = (A*2+B*3+C*5)/10\n",
    "print(f\"MEDIA = {format(MEDIA, '.1f')}\")"
   ]
  },
  {
   "cell_type": "markdown",
   "metadata": {},
   "source": [
    "## 1007 Difference"
   ]
  },
  {
   "cell_type": "code",
   "execution_count": 7,
   "metadata": {},
   "outputs": [
    {
     "name": "stdout",
     "output_type": "stream",
     "text": [
      "10\n",
      "4\n",
      "7\n",
      "9\n",
      "DIFERENCA = -23\n"
     ]
    }
   ],
   "source": [
    "#https://www.urionlinejudge.com.br/judge/en/problems/view/1007\n",
    "A=int(input())\n",
    "B=int(input())\n",
    "C=int(input())\n",
    "D=int(input())\n",
    "print(f\"DIFERENCA = {A * B - C * D}\")"
   ]
  },
  {
   "cell_type": "markdown",
   "metadata": {},
   "source": [
    "## 1008 Salary"
   ]
  },
  {
   "cell_type": "code",
   "execution_count": 8,
   "metadata": {},
   "outputs": [
    {
     "name": "stdout",
     "output_type": "stream",
     "text": [
      "25\n",
      "100\n",
      "5.5\n",
      "NUMBER = 25\n",
      "SALARY = U$ 550.00\n"
     ]
    }
   ],
   "source": [
    "#https://www.urionlinejudge.com.br/judge/en/problems/view/1008\n",
    "A=int(input())\n",
    "B=int(input())\n",
    "F=float(input())\n",
    "print(f\"NUMBER = {A}\")\n",
    "print(f\"SALARY = U$ {format(B*F, '.2f')}\")"
   ]
  },
  {
   "cell_type": "markdown",
   "metadata": {},
   "source": [
    "## 1009 Salary with Bonus"
   ]
  },
  {
   "cell_type": "code",
   "execution_count": 9,
   "metadata": {},
   "outputs": [
    {
     "name": "stdout",
     "output_type": "stream",
     "text": [
      "JOAO\n",
      "500\n",
      "1230.3\n",
      "TOTAL = R$ 684.54\n"
     ]
    }
   ],
   "source": [
    "#https://www.urionlinejudge.com.br/judge/en/problems/view/1009\n",
    "A=input()\n",
    "S=float(input())\n",
    "T=float(input())\n",
    "print(f\"TOTAL = R$ {format(S+T*0.15, '.2f')}\")"
   ]
  },
  {
   "cell_type": "markdown",
   "metadata": {},
   "source": [
    "## 1010 Simple Calculate"
   ]
  },
  {
   "cell_type": "code",
   "execution_count": 10,
   "metadata": {},
   "outputs": [
    {
     "name": "stdout",
     "output_type": "stream",
     "text": [
      "12 1 5.30\n",
      "16 2 5.1\n",
      "VALOR A PAGAR: R$ 15.50\n"
     ]
    }
   ],
   "source": [
    "#https://www.urionlinejudge.com.br/judge/en/problems/view/1010\n",
    "A=input()\n",
    "B=input()\n",
    "listA = [float(x) for x in A.split()]\n",
    "listB = [float(x) for x in B.split()]\n",
    "print(f\"VALOR A PAGAR: R$ {format(listA[1]*listA[2]+listB[1]*listB[2], '.2f')}\")"
   ]
  },
  {
   "cell_type": "markdown",
   "metadata": {},
   "source": [
    "## 1011 Sphere"
   ]
  },
  {
   "cell_type": "code",
   "execution_count": 11,
   "metadata": {},
   "outputs": [
    {
     "name": "stdout",
     "output_type": "stream",
     "text": [
      "3\n",
      "VOLUME = 113.097\n"
     ]
    }
   ],
   "source": [
    "#https://www.urionlinejudge.com.br/judge/en/problems/view/1011\n",
    "R=float(input())\n",
    "A=(4/3)*3.14159*R*R*R\n",
    "print(f\"VOLUME = {format(A, '.3f')}\")"
   ]
  },
  {
   "cell_type": "markdown",
   "metadata": {},
   "source": [
    "## 1012 Area"
   ]
  },
  {
   "cell_type": "code",
   "execution_count": 12,
   "metadata": {},
   "outputs": [
    {
     "name": "stdout",
     "output_type": "stream",
     "text": [
      "3.0 4.0 5.2\n",
      "TRIANGULO: 7.800\n",
      "CIRCULO: 84.949\n",
      "TRAPEZIO: 18.200\n",
      "QUADRADO: 16.000\n",
      "RETANGULO: 12.000\n"
     ]
    }
   ],
   "source": [
    "#https://www.urionlinejudge.com.br/judge/en/problems/view/1012\n",
    "A=input()\n",
    "Ar = [int(x) for x in A.split()]\n",
    "print(f\"TRIANGULO: {format(0.5*Ar[0]*Ar[2], '.3f')}\")\n",
    "print(f\"CIRCULO: {format(3.14159*Ar[2]*Ar[2], '.3f')}\")\n",
    "print(f\"TRAPEZIO: {format(0.5*(Ar[0]+Ar[1])*Ar[2], '.3f')}\")\n",
    "print(f\"QUADRADO: {format(Ar[1]*Ar[1], '.3f')}\")\n",
    "print(f\"RETANGULO: {format(Ar[0]*Ar[1], '.3f')}\")"
   ]
  },
  {
   "cell_type": "markdown",
   "metadata": {},
   "source": [
    "## 1013 The Greatest"
   ]
  },
  {
   "cell_type": "code",
   "execution_count": 13,
   "metadata": {},
   "outputs": [
    {
     "name": "stdout",
     "output_type": "stream",
     "text": [
      "217 14 6\n",
      "217.0 eh o maior\n"
     ]
    }
   ],
   "source": [
    "#https://www.urionlinejudge.com.br/judge/en/problems/view/1013\n",
    "A=input()\n",
    "Ar = [int(x) for x in A.split()]\n",
    "maxab = ((Ar[0] + Ar[1] + abs(Ar[0] - Ar[1])) / 2)\n",
    "maxn =  ((maxab + Ar[2] + abs(maxab - Ar[2])) / 2)\n",
    "print(f\"{maxn} eh o maior\")"
   ]
  },
  {
   "cell_type": "markdown",
   "metadata": {},
   "source": [
    "## 1014 Consumption"
   ]
  },
  {
   "cell_type": "code",
   "execution_count": 1,
   "metadata": {},
   "outputs": [
    {
     "name": "stdout",
     "output_type": "stream",
     "text": [
      "500\n",
      "35\n",
      "14.286 km/l\n"
     ]
    }
   ],
   "source": [
    "#https://www.urionlinejudge.com.br/judge/en/problems/view/1014\n",
    "X=int (input())\n",
    "Y=float(input())\n",
    "print(f\"{format(X/Y, '.3f')} km/l\")"
   ]
  },
  {
   "cell_type": "markdown",
   "metadata": {},
   "source": [
    "## 1015 Distance Between Two Points"
   ]
  },
  {
   "cell_type": "code",
   "execution_count": 1,
   "metadata": {},
   "outputs": [
    {
     "name": "stdout",
     "output_type": "stream",
     "text": [
      "1 7\n",
      "5 9\n",
      "4.4721\n"
     ]
    }
   ],
   "source": [
    "#https://www.urionlinejudge.com.br/judge/en/problems/view/1015\n",
    "import math\n",
    "x1y1=input()\n",
    "x2y2=input()\n",
    "xy1 = [float(x) for x in x1y1.split()]\n",
    "xy2 = [float(x) for x in x2y2.split()]\n",
    "A=math.pow((xy1[0]-xy2[0]),2)\n",
    "B=math.pow((xy1[1]-xy2[1]),2)\n",
    "print(format(math.sqrt(A+B), '.4f'))"
   ]
  },
  {
   "cell_type": "markdown",
   "metadata": {},
   "source": [
    "## 1016 Distance"
   ]
  },
  {
   "cell_type": "code",
   "execution_count": 2,
   "metadata": {},
   "outputs": [
    {
     "name": "stdout",
     "output_type": "stream",
     "text": [
      "30\n",
      "60 minutos\n"
     ]
    }
   ],
   "source": [
    "#https://www.urionlinejudge.com.br/judge/en/problems/view/1015\n",
    "Y = int(input())\n",
    "print(f\"{Y*2} minutos\")"
   ]
  },
  {
   "cell_type": "markdown",
   "metadata": {},
   "source": [
    "## 1017 Fuel Spent"
   ]
  },
  {
   "cell_type": "code",
   "execution_count": 1,
   "metadata": {},
   "outputs": [
    {
     "name": "stdout",
     "output_type": "stream",
     "text": [
      "10\n",
      "85\n",
      "70.833\n"
     ]
    }
   ],
   "source": [
    "#https://www.urionlinejudge.com.br/judge/en/problems/view/1017\n",
    "T=float(input())\n",
    "S=float(input())\n",
    "print(f\"{format(T*S/12, '.3f')}\")"
   ]
  },
  {
   "cell_type": "markdown",
   "metadata": {},
   "source": [
    "## 1018 Banknotes (পারি )"
   ]
  },
  {
   "cell_type": "code",
   "execution_count": 3,
   "metadata": {},
   "outputs": [
    {
     "name": "stdout",
     "output_type": "stream",
     "text": [
      "257\n",
      "2 nota(s) de R$ 100,00\n",
      "1 nota(s) de R$ 50,00\n",
      "0 nota(s) de R$ 20,00\n",
      "0 nota(s) de R$ 10,00\n",
      "1 nota(s) de R$ 5,00\n",
      "1 nota(s) de R$ 2,00\n",
      "0 nota(s) de R$ 1,00\n"
     ]
    }
   ],
   "source": [
    "#https://www.urionlinejudge.com.br/judge/en/problems/view/1018\n",
    "N = int(input())\n",
    "print(f\"{int(N/100)} nota(s) de R$ 100,00\")\n",
    "A=N%100\n",
    "print(f\"{int(A/50)} nota(s) de R$ 50,00\") \n",
    "A=A%50\n",
    "print(f\"{int(A/20)} nota(s) de R$ 20,00\")\n",
    "A=A%20\n",
    "print(f\"{int(A/10)} nota(s) de R$ 10,00\") \n",
    "A=A%10\n",
    "print(f\"{int(A/5)} nota(s) de R$ 5,00\") \n",
    "A=A%5\n",
    "print(f\"{int(A/2)} nota(s) de R$ 2,00\") \n",
    "A=A%2\n",
    "print(f\"{int(A)} nota(s) de R$ 1,00\") "
   ]
  },
  {
   "cell_type": "markdown",
   "metadata": {},
   "source": [
    "## 1019 Time Conversion"
   ]
  },
  {
   "cell_type": "code",
   "execution_count": 4,
   "metadata": {},
   "outputs": [
    {
     "name": "stdout",
     "output_type": "stream",
     "text": [
      "140153\n",
      "38:55:53\n"
     ]
    }
   ],
   "source": [
    "#https://www.urionlinejudge.com.br/judge/en/problems/view/1019\n",
    "N = int(input())\n",
    "Hour=N/3600\n",
    "Minutes=(N%3600)/60\n",
    "Second=((N%3600)%60)\n",
    "print(f\"{int(Hour)}:{int(Minutes)}:{int(Second)}\")"
   ]
  },
  {
   "cell_type": "markdown",
   "metadata": {},
   "source": [
    "## 1020 Age in Days"
   ]
  },
  {
   "cell_type": "code",
   "execution_count": 5,
   "metadata": {},
   "outputs": [
    {
     "name": "stdout",
     "output_type": "stream",
     "text": [
      "800\n",
      "2 ano(s)\n",
      "2 mes(es)\n",
      "10 dia(s)\n"
     ]
    }
   ],
   "source": [
    "#https://www.urionlinejudge.com.br/judge/en/problems/view/1020\n",
    "n = int(input())\n",
    "year=n/365\n",
    "month=(n%365)/30\n",
    "day=((n%365)%30)\n",
    "print(f\"{int(year)} ano(s)\")\n",
    "print(f\"{int(month)} mes(es)\")\n",
    "print(f\"{int(day)} dia(s)\")"
   ]
  },
  {
   "cell_type": "markdown",
   "metadata": {},
   "source": [
    "## 1021 Banknotes and Coins (পারি নাই )"
   ]
  },
  {
   "cell_type": "code",
   "execution_count": 2,
   "metadata": {},
   "outputs": [
    {
     "name": "stdout",
     "output_type": "stream",
     "text": [
      "91.01\n",
      "NOTAS:\n",
      "0 nota(s) de R$ 100.00\n",
      "1 nota(s) de R$ 50.00\n",
      "2 nota(s) de R$ 20.00\n",
      "0 nota(s) de R$ 10.00\n",
      "0 nota(s) de R$ 5.00\n",
      "0 nota(s) de R$ 2.00\n",
      "MOEDAS:\n",
      "1 moeda(s) de R$ 1.00\n",
      "0 moeda(s) de R$ 0.50\n",
      "0 moeda(s) de R$ 0.25\n",
      "0 moeda(s) de R$ 0.10\n",
      "0 moeda(s) de R$ 0.05\n",
      "1 moeda(s) de R$ 0.01\n"
     ]
    }
   ],
   "source": [
    "#https://www.urionlinejudge.com.br/judge/en/problems/view/1021\n",
    "N = float(input())\n",
    "print(\"NOTAS:\")\n",
    "print(f\"{int(N/100)} nota(s) de R$ 100.00\")\n",
    "A=N%100\n",
    "print(f\"{int(A/50)} nota(s) de R$ 50.00\") \n",
    "A=A%50\n",
    "print(f\"{int(A/20)} nota(s) de R$ 20.00\")\n",
    "A=A%20\n",
    "print(f\"{int(A/10)} nota(s) de R$ 10.00\") \n",
    "A=A%10\n",
    "print(f\"{int(A/5)} nota(s) de R$ 5.00\") \n",
    "A=A%5\n",
    "print(f\"{int(A/2)} nota(s) de R$ 2.00\") \n",
    "A=A%2\n",
    "print(\"MOEDAS:\")\n",
    "print(f\"{int(A)} moeda(s) de R$ 1.00\") \n",
    "# Obtain fraction to integer\n",
    "A=A*100-100\n",
    "print(f\"{int(A/50)} moeda(s) de R$ 0.50\") \n",
    "A=A%50\n",
    "print(f\"{int(A/25)} moeda(s) de R$ 0.25\") \n",
    "A=A%25\n",
    "print(f\"{int(A/10)} moeda(s) de R$ 0.10\") \n",
    "A=A%10\n",
    "print(f\"{int(A/5)} moeda(s) de R$ 0.05\") \n",
    "A=A%5\n",
    "print(f\"{int(A/1)} moeda(s) de R$ 0.01\") "
   ]
  },
  {
   "cell_type": "markdown",
   "metadata": {},
   "source": [
    "## 1035 Selection Test 1"
   ]
  },
  {
   "cell_type": "code",
   "execution_count": 3,
   "metadata": {},
   "outputs": [
    {
     "name": "stdout",
     "output_type": "stream",
     "text": [
      "5 6 7 8\n",
      "Valores nao aceitos\n"
     ]
    }
   ],
   "source": [
    "#https://www.urionlinejudge.com.br/judge/en/problems/view/1035\n",
    "A=input()\n",
    "a=[int(x) for x in A.split()]\n",
    "\n",
    "if a[1]>a[2] and a[3]>a[0] and ((a[2]+a[3])>(a[0]+a[1]))and(a[2] and a[3])>=0 and a[0]%2==0:\n",
    "    print(\"Valores aceitos\")\n",
    "else:\n",
    "    print(\"Valores nao aceitos\")"
   ]
  },
  {
   "cell_type": "markdown",
   "metadata": {},
   "source": [
    "## 1036 Bhaskara's Formula"
   ]
  },
  {
   "cell_type": "code",
   "execution_count": null,
   "metadata": {},
   "outputs": [],
   "source": [
    "#https://www.urionlinejudge.com.br/judge/en/problems/view/1036\n",
    "import math\n",
    "A=input()\n",
    "a=[float(x) for x in A.split()]\n",
    "d=math.sqrt(a[1]*a[1]-4*a[0]*a[2])\n",
    "if math.sqrt(math.pow(a[1],2)-4*[0]*a[2])>0 and [0]!=0 :\n",
    "    x1=(-a[1]+sqrt(pow(a[1],2)-4*[0]*a[2]))/(2*[0])\n",
    "    x2=(-a[1]-sqrt(pow(a[1],2)-4*[0]*a[2]))/(2*[0])\n",
    "    print(f\"R1 = {format(x1,'.5f')}\")\n",
    "    print(f\"R2 = {format(x2,'.5f')}\")\n",
    "else:\n",
    "    print(\"Impossivel calcular\")"
   ]
  },
  {
   "cell_type": "code",
   "execution_count": null,
   "metadata": {},
   "outputs": [],
   "source": []
  },
  {
   "cell_type": "code",
   "execution_count": null,
   "metadata": {},
   "outputs": [],
   "source": []
  }
 ],
 "metadata": {
  "kernelspec": {
   "display_name": "Python 3",
   "language": "python",
   "name": "python3"
  },
  "language_info": {
   "codemirror_mode": {
    "name": "ipython",
    "version": 3
   },
   "file_extension": ".py",
   "mimetype": "text/x-python",
   "name": "python",
   "nbconvert_exporter": "python",
   "pygments_lexer": "ipython3",
   "version": "3.7.3"
  }
 },
 "nbformat": 4,
 "nbformat_minor": 2
}
